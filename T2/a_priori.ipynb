{
 "cells": [
  {
   "cell_type": "code",
   "execution_count": 11,
   "metadata": {},
   "outputs": [],
   "source": [
    "import random\n",
    "import math\n",
    "import numpy as np\n",
    "import numba as nb\n",
    "from numba import njit"
   ]
  },
  {
   "cell_type": "code",
   "execution_count": 12,
   "metadata": {},
   "outputs": [],
   "source": [
    "@njit\n",
    "def funcion_p(a, h):\n",
    "    valor1 = (2 * a + 1)\n",
    "    valor2 = (a + 1) ** h\n",
    "    valor3 = 0\n",
    "    for k in range(0, a + 1):\n",
    "        valor3 += k ** h\n",
    "    valor3 *= 2\n",
    "    return valor1 * valor2 - valor3\n",
    "\n",
    "@njit\n",
    "def prob_triangular_discreta(a, h, c, d):\n",
    "    if d < c - a or d > c + a:\n",
    "        return 0\n",
    "    numerador = (a + 1) ** h - abs(d - c) ** h\n",
    "    denominador = funcion_p(a, h)\n",
    "    prob = numerador / denominador\n",
    "    return prob\n",
    "\n",
    "@njit\n",
    "def va_triangular_discreta(a, h, c):\n",
    "    u = np.random.random()\n",
    "    # print(u)\n",
    "    p_acum = 0\n",
    "    for d in range(c - a, c + a + 1):\n",
    "        prob = prob_triangular_discreta(a, h, c, d)\n",
    "        if p_acum <= u < p_acum + prob:\n",
    "            return d\n",
    "        p_acum += prob\n",
    "    return d\n",
    "\n",
    "@njit\n",
    "def esperanza_triangular_discreta(a, h, c):\n",
    "    esperanza = 0\n",
    "    for d in range(c - a, c + a + 1):\n",
    "        esperanza += d * prob_triangular_discreta(a, h, c, d)\n",
    "    return round(esperanza)"
   ]
  },
  {
   "cell_type": "code",
   "execution_count": 13,
   "metadata": {},
   "outputs": [],
   "source": [
    "@njit\n",
    "def a_value(t):\n",
    "    if t <= 15:\n",
    "        return 50\n",
    "    elif t <= 30:\n",
    "        return 86\n",
    "    elif t <= 45:\n",
    "        return 34\n",
    "    elif t <= 60:\n",
    "        return 22\n",
    "    elif t <= 75:\n",
    "        return 100\n",
    "    return 66\n",
    "\n",
    "@njit\n",
    "def h_value(t):\n",
    "    if t <= 15:\n",
    "        return 5\n",
    "    elif t <= 30:\n",
    "        return 4\n",
    "    elif t <= 45:\n",
    "        return 4\n",
    "    elif t <= 60:\n",
    "        return 5\n",
    "    elif t <= 75:\n",
    "        return 3\n",
    "    return 4\n",
    "\n",
    "@njit\n",
    "def c_value(t):\n",
    "    if t <= 15:\n",
    "        return 50\n",
    "    elif t <= 30:\n",
    "        return 86\n",
    "    elif t <= 45:\n",
    "        return 34\n",
    "    elif t <= 60:\n",
    "        return 22\n",
    "    elif t <= 75:\n",
    "        return 100\n",
    "    return 66\n",
    "\n",
    "@njit\n",
    "def K_value(t):\n",
    "    if t <= 30:\n",
    "        return 180\n",
    "    elif t <= 60:\n",
    "        return 500\n",
    "    return 250\n",
    "\n",
    "@njit\n",
    "def C_value(t):\n",
    "    if (t % 7 == 0):\n",
    "        return 18\n",
    "    return 12\n",
    "\n",
    "@njit\n",
    "def H_value(t):\n",
    "    return 1\n",
    "\n",
    "@njit\n",
    "def Q_value(t):\n",
    "    return 18"
   ]
  },
  {
   "cell_type": "code",
   "execution_count": 14,
   "metadata": {},
   "outputs": [],
   "source": [
    "@njit\n",
    "def politica_optima(T, Q):\n",
    "    array_size = (T+1, Q + 1)\n",
    "    matriz_costos = np.zeros(array_size)\n",
    "    matriz_decision = np.zeros(array_size)\n",
    "    matriz_costos_inmediatos = np.zeros((Q + 1, Q + 1))\n",
    "\n",
    "    for s in range(0, Q + 1):\n",
    "        matriz_costos[T][s] = 0\n",
    "\n",
    "    for t in range(T - 1, -1, -1):\n",
    "        for s in range(0, Q + 1):\n",
    "            #escoge acción óptima.\n",
    "            minimum = np.inf\n",
    "            x_value = -1\n",
    "            for x in range(0, Q - s + 1):\n",
    "                #costo inmediato\n",
    "                CostoAccion = 0\n",
    "                if x > 0:\n",
    "                    CostoAccion += K_value(t+1) + C_value(t+1) * x\n",
    "                d =  c_value(t)\n",
    "                CostoAccion += Q_value(t+1) * max(0, d - s - x) * prob_triangular_discreta(a_value(t+1), h_value(t+1), c_value(t+1), d)\n",
    "                CostoAccion += H_value(t+1) * max(0, s + x - d) * prob_triangular_discreta(a_value(t+1), h_value(t+1), c_value(t+1), d)\n",
    "                # for d in range(c_value(t+1) - a_value(t+1), c_value(t+1) + a_value(t+1) + 1):\n",
    "                #     CostoAccion += Q_value(t+1) * max(0, d - s - x) * prob_triangular_discreta(a_value(t+1), h_value(t+1), c_value(t+1), d)\n",
    "                #     CostoAccion += H_value(t+1) * max(0, s + x - d) * prob_triangular_discreta(a_value(t+1), h_value(t+1), c_value(t+1), d)\n",
    "                #valor esperado futuro\n",
    "                # for d in range(c_value(t+1) - a_value(t+1), c_value(t+1) + a_value(t+1) + 1):\n",
    "                #     sfuturo = max(s + x - d, 0)\n",
    "                #     CostoAccion += matriz_costos[t+1][sfuturo] * prob_triangular_discreta(a_value(t+1), h_value(t+1), c_value(t+1), d)\n",
    "\n",
    "                #Actualiza\n",
    "                if CostoAccion< minimum:\n",
    "                    minimum=CostoAccion\n",
    "                    x_value=x\n",
    "\n",
    "            matriz_costos[t][s] = minimum\n",
    "            matriz_decision[t][s] = x_value\n",
    "\n",
    "\n",
    "    return matriz_costos, matriz_decision"
   ]
  },
  {
   "cell_type": "markdown",
   "metadata": {},
   "source": [
    "Considere ahora una politica Newsvendor π2, es decir, que optimiza la funcion de perdida de cada día sin considerar el cost-to-go a futuro. Simule la operacion sobre el horizonte de T dıas ejecutando la polıtica optima π2 sobre las mismas M realizaciones de demanda simuladas. Repita el mismo analisis del punto anterior."
   ]
  },
  {
   "cell_type": "code",
   "execution_count": 15,
   "metadata": {},
   "outputs": [],
   "source": [
    "T = 90\n",
    "Q = 120\n",
    "\n",
    "matriz_costos, matriz_decision = politica_optima(T, Q)"
   ]
  },
  {
   "cell_type": "code",
   "execution_count": 16,
   "metadata": {},
   "outputs": [
    {
     "name": "stdout",
     "output_type": "stream",
     "text": [
      "2.1180541890281477\n"
     ]
    }
   ],
   "source": [
    "print(matriz_costos[0][40])"
   ]
  },
  {
   "cell_type": "code",
   "execution_count": 17,
   "metadata": {},
   "outputs": [],
   "source": [
    "@njit\n",
    "def simular_demanda(cantidad_iteraciones, T):\n",
    "    out = \"\"\n",
    "    for i in range(cantidad_iteraciones):\n",
    "        for t in range(1, T + 1):\n",
    "            a = a_value(t)\n",
    "            h = h_value(t)\n",
    "            c = c_value(t)\n",
    "            demanda = va_triangular_discreta(a, h, c)\n",
    "            out += str(demanda) + \",\"\n",
    "        out = out[:-1]\n",
    "        out += \"\\n\"\n",
    "    return out"
   ]
  },
  {
   "cell_type": "code",
   "execution_count": 18,
   "metadata": {},
   "outputs": [],
   "source": [
    "def simulacion_aplicando_politica_optima(demanda, matriz_decision):\n",
    "    stock_inicial = 40\n",
    "    stock = stock_inicial\n",
    "    costo_total = 0\n",
    "    for t in range(1, T + 1):\n",
    "        # print(\"Tiempo:\", t)\n",
    "        # print(\"Stock:\", stock)\n",
    "        # print(\"Demanda:\", demanda[t - 1])\n",
    "        # print(\"Decision:\", matriz_decision[t - 1][int(stock)])\n",
    "        reposicion = matriz_decision[t - 1][stock]\n",
    "        # print(\"Reposicion:\", reposicion)\n",
    "        if reposicion > 0:\n",
    "            costo_total += K_value(t) + C_value(t) * reposicion\n",
    "        costo_total += Q_value(t) * max(0, demanda[t - 1] - stock - reposicion)\n",
    "        # print(Q_value(t) * max(0, demanda[t - 1] - stock - reposicion))\n",
    "        costo_total += H_value(t) * max(0, stock + reposicion - demanda[t - 1])\n",
    "        # print(H_value(t) * max(0, stock + reposicion - demanda[t - 1]))\n",
    "        # print(\"Stock - Demanda:\", stock)\n",
    "        stock = int(max(stock + reposicion - demanda[t - 1], 0))\n",
    "        # print(\"Costo:\", costo_total)\n",
    "        # print()\n",
    "    return costo_total"
   ]
  },
  {
   "cell_type": "code",
   "execution_count": 19,
   "metadata": {},
   "outputs": [],
   "source": [
    "M = 500\n",
    "output = simular_demanda(M, T)\n",
    "\n",
    "with open(\"demanda.csv\", \"w\") as f:\n",
    "    f.write(output)\n",
    "\n",
    "with open(\"demanda.csv\", \"r\") as f:\n",
    "    demanda = f.readlines()"
   ]
  },
  {
   "cell_type": "code",
   "execution_count": 20,
   "metadata": {},
   "outputs": [
    {
     "name": "stdout",
     "output_type": "stream",
     "text": [
      "95903.192\n"
     ]
    }
   ],
   "source": [
    "suma = 0\n",
    "Costos = []\n",
    "for i in range(M):\n",
    "    dem = demanda[i].split(\",\")\n",
    "    for j in range(len(dem)):\n",
    "        dem[j] = int(dem[j])\n",
    "    CM = simulacion_aplicando_politica_optima(dem, matriz_decision)\n",
    "    Costos.append(CM)\n",
    "    suma += CM\n",
    "print(suma / M)"
   ]
  }
 ],
 "metadata": {
  "kernelspec": {
   "display_name": "Python 3",
   "language": "python",
   "name": "python3"
  },
  "language_info": {
   "codemirror_mode": {
    "name": "ipython",
    "version": 3
   },
   "file_extension": ".py",
   "mimetype": "text/x-python",
   "name": "python",
   "nbconvert_exporter": "python",
   "pygments_lexer": "ipython3",
   "version": "3.11.5"
  },
  "orig_nbformat": 4
 },
 "nbformat": 4,
 "nbformat_minor": 2
}
