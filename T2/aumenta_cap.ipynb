{
 "cells": [
  {
   "cell_type": "code",
   "execution_count": 1,
   "metadata": {},
   "outputs": [],
   "source": [
    "import random\n",
    "import math\n",
    "import numpy as np\n",
    "import numba as nb\n",
    "from numba import njit"
   ]
  },
  {
   "cell_type": "code",
   "execution_count": 2,
   "metadata": {},
   "outputs": [],
   "source": [
    "@njit\n",
    "def funcion_p(a, h):\n",
    "    valor1 = (2 * a + 1)\n",
    "    valor2 = (a + 1) ** h\n",
    "    valor3 = 0\n",
    "    for k in range(0, a + 1):\n",
    "        valor3 += k ** h\n",
    "    valor3 *= 2\n",
    "    return valor1 * valor2 - valor3\n",
    "\n",
    "@njit\n",
    "def prob_triangular_discreta(a, h, c, d):\n",
    "    if d < c - a or d > c + a:\n",
    "        return 0\n",
    "    numerador = (a + 1) ** h - abs(d - c) ** h\n",
    "    denominador = funcion_p(a, h)\n",
    "    prob = numerador / denominador\n",
    "    return prob\n",
    "\n",
    "@njit\n",
    "def va_triangular_discreta(a, h, c):\n",
    "    u = np.random.random()\n",
    "    # print(u)\n",
    "    p_acum = 0\n",
    "    for d in range(c - a, c + a + 1):\n",
    "        prob = prob_triangular_discreta(a, h, c, d)\n",
    "        if p_acum <= u < p_acum + prob:\n",
    "            return d\n",
    "        p_acum += prob\n",
    "    return d\n",
    "\n",
    "@njit\n",
    "def esperanza_triangular_discreta(a, h, c):\n",
    "    esperanza = 0\n",
    "    for d in range(c - a, c + a + 1):\n",
    "        esperanza += d * prob_triangular_discreta(a, h, c, d)\n",
    "    return round(esperanza)"
   ]
  },
  {
   "cell_type": "code",
   "execution_count": 3,
   "metadata": {},
   "outputs": [],
   "source": [
    "@njit\n",
    "def a_value(t):\n",
    "    if t <= 15:\n",
    "        return 50\n",
    "    elif t <= 30:\n",
    "        return 86\n",
    "    elif t <= 45:\n",
    "        return 34\n",
    "    elif t <= 60:\n",
    "        return 22\n",
    "    elif t <= 75:\n",
    "        return 100\n",
    "    return 66\n",
    "\n",
    "@njit\n",
    "def h_value(t):\n",
    "    if t <= 15:\n",
    "        return 5\n",
    "    elif t <= 30:\n",
    "        return 4\n",
    "    elif t <= 45:\n",
    "        return 4\n",
    "    elif t <= 60:\n",
    "        return 5\n",
    "    elif t <= 75:\n",
    "        return 3\n",
    "    return 4\n",
    "\n",
    "@njit\n",
    "def c_value(t):\n",
    "    if t <= 15:\n",
    "        return 50\n",
    "    elif t <= 30:\n",
    "        return 86\n",
    "    elif t <= 45:\n",
    "        return 34\n",
    "    elif t <= 60:\n",
    "        return 22\n",
    "    elif t <= 75:\n",
    "        return 100\n",
    "    return 66\n",
    "\n",
    "@njit\n",
    "def K_value(t):\n",
    "    if t <= 30:\n",
    "        return 180\n",
    "    elif t <= 60:\n",
    "        return 500\n",
    "    return 250\n",
    "\n",
    "@njit\n",
    "def C_value(t):\n",
    "    if (t % 7 == 0):\n",
    "        return 18\n",
    "    return 12\n",
    "\n",
    "@njit\n",
    "def H_value(t):\n",
    "    return 1\n",
    "\n",
    "@njit\n",
    "def Q_value(t):\n",
    "    return 18"
   ]
  },
  {
   "cell_type": "code",
   "execution_count": 4,
   "metadata": {},
   "outputs": [],
   "source": [
    "@njit\n",
    "def esperanza_triangular_discreta(a, h, c):\n",
    "    esperanza = 0\n",
    "    for d in range(c - a, c + a + 1):\n",
    "        esperanza += d * prob_triangular_discreta(a, h, c, d)\n",
    "    return round(esperanza)"
   ]
  },
  {
   "cell_type": "code",
   "execution_count": 5,
   "metadata": {},
   "outputs": [],
   "source": [
    "@njit\n",
    "def politica_optima(T, Q):\n",
    "    array_size = (T+1, Q + 1)\n",
    "    matriz_costos = np.zeros(array_size)\n",
    "    matriz_decision = np.zeros(array_size)\n",
    "    matriz_costos_inmediatos = np.zeros((Q + 1, Q + 1))\n",
    "\n",
    "    for s in range(0, Q + 1):\n",
    "        matriz_costos[T][s] = 0\n",
    "\n",
    "    for t in range(T - 1, -1, -1):\n",
    "        for s in range(0, Q + 1):\n",
    "            #escoge acción óptima.\n",
    "            minimum = np.inf\n",
    "            x_value = -1\n",
    "            for x in range(0, Q - s + 1):\n",
    "                #costo inmediato\n",
    "                CostoAccion = 0\n",
    "                if x > 0:\n",
    "                    CostoAccion += K_value(t+1) + C_value(t+1) * x\n",
    "                for d in range(c_value(t+1) - a_value(t+1), c_value(t+1) + a_value(t+1) + 1):\n",
    "                    CostoAccion += Q_value(t+1) * max(0, d - s - x) * prob_triangular_discreta(a_value(t+1), h_value(t+1), c_value(t+1), d)\n",
    "                    CostoAccion += H_value(t+1) * max(0, s + x - d) * prob_triangular_discreta(a_value(t+1), h_value(t+1), c_value(t+1), d)\n",
    "                #valor esperado futuro\n",
    "                for d in range(c_value(t+1) - a_value(t+1), c_value(t+1) + a_value(t+1) + 1):\n",
    "                    sfuturo = max(s + x - d, 0)\n",
    "                    CostoAccion += matriz_costos[t+1][sfuturo] * prob_triangular_discreta(a_value(t+1), h_value(t+1), c_value(t+1), d)\n",
    "\n",
    "                #Actualiza\n",
    "                if CostoAccion< minimum:\n",
    "                    minimum=CostoAccion\n",
    "                    x_value=x\n",
    "\n",
    "            matriz_costos[t][s] = minimum\n",
    "            matriz_decision[t][s] = x_value\n",
    "\n",
    "\n",
    "    return matriz_costos, matriz_decision"
   ]
  },
  {
   "cell_type": "code",
   "execution_count": 13,
   "metadata": {},
   "outputs": [
    {
     "data": {
      "text/plain": [
       "int"
      ]
     },
     "execution_count": 13,
     "metadata": {},
     "output_type": "execute_result"
    }
   ],
   "source": [
    "type(4)"
   ]
  },
  {
   "cell_type": "code",
   "execution_count": 14,
   "metadata": {},
   "outputs": [],
   "source": [
    "T = 90\n",
    "Q = 120\n",
    "Q10 = int(Q*1.1)\n",
    "Q20 = int(Q*1.2)\n",
    "Q30 = int(Q*1.3)"
   ]
  },
  {
   "cell_type": "code",
   "execution_count": null,
   "metadata": {},
   "outputs": [],
   "source": [
    "matriz_costos, matriz_decision = politica_optima(T, Q)"
   ]
  },
  {
   "cell_type": "code",
   "execution_count": 15,
   "metadata": {},
   "outputs": [],
   "source": [
    "\n",
    "matriz_costos10, matriz_decision10 = politica_optima(T, Q10)"
   ]
  },
  {
   "cell_type": "code",
   "execution_count": 16,
   "metadata": {},
   "outputs": [],
   "source": [
    "matriz_costos20, matriz_decision20 = politica_optima(T, Q20)    "
   ]
  },
  {
   "cell_type": "code",
   "execution_count": 17,
   "metadata": {},
   "outputs": [],
   "source": [
    "matriz_costos30, matriz_decision30 = politica_optima(T, Q30)"
   ]
  },
  {
   "cell_type": "code",
   "execution_count": 18,
   "metadata": {},
   "outputs": [],
   "source": [
    "def simulacion_aplicando_politica_optima(demanda, matriz_decision):\n",
    "    stock_inicial = 40\n",
    "    stock = stock_inicial\n",
    "    costo_total = 0\n",
    "    for t in range(1, T + 1):\n",
    "        reposicion = matriz_decision[t - 1][stock]\n",
    "        if reposicion > 0:\n",
    "            costo_total += K_value(t) + C_value(t) * reposicion\n",
    "        \n",
    "        costo_total += Q_value(t) * max(0, demanda[t - 1] - stock - reposicion)\n",
    "        costo_total += H_value(t) * max(0, stock + reposicion - demanda[t - 1])\n",
    "        stock = int(max(stock + reposicion - demanda[t - 1], 0))\n",
    "\n",
    "    return costo_total"
   ]
  },
  {
   "cell_type": "code",
   "execution_count": 19,
   "metadata": {},
   "outputs": [
    {
     "name": "stdout",
     "output_type": "stream",
     "text": [
      "Q = 120: 83021.854\n",
      "Q = 132: 82150.04\n",
      "Q = 144: 81500.736\n",
      "Q = 156: 81006.28\n"
     ]
    }
   ],
   "source": [
    "M = 500\n",
    "\n",
    "with open(\"demanda.csv\", \"r\") as f:\n",
    "    demanda = f.readlines()\n",
    "\n",
    "CM = 0\n",
    "CM10 = 0\n",
    "CM20 = 0\n",
    "CM30 = 0\n",
    "\n",
    "for i in range(M):\n",
    "    dem = demanda[i].split(\",\")\n",
    "    for j in range(len(dem)):\n",
    "        dem[j] = int(dem[j])\n",
    "    CM += simulacion_aplicando_politica_optima(dem, matriz_decision)\n",
    "    CM10 += simulacion_aplicando_politica_optima(dem, matriz_decision10)\n",
    "    CM20 += simulacion_aplicando_politica_optima(dem, matriz_decision20)\n",
    "    CM30 += simulacion_aplicando_politica_optima(dem, matriz_decision30)\n",
    "\n",
    "print(f\"Q = {Q}: {CM/M}\")\n",
    "print(f\"Q = {Q10}: {CM10/M}\")\n",
    "print(f\"Q = {Q20}: {CM20/M}\")\n",
    "print(f\"Q = {Q30}: {CM30/M}\")"
   ]
  }
 ],
 "metadata": {
  "kernelspec": {
   "display_name": "Python 3",
   "language": "python",
   "name": "python3"
  },
  "language_info": {
   "codemirror_mode": {
    "name": "ipython",
    "version": 3
   },
   "file_extension": ".py",
   "mimetype": "text/x-python",
   "name": "python",
   "nbconvert_exporter": "python",
   "pygments_lexer": "ipython3",
   "version": "3.11.5"
  },
  "orig_nbformat": 4
 },
 "nbformat": 4,
 "nbformat_minor": 2
}
