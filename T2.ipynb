{
 "cells": [
  {
   "cell_type": "code",
   "execution_count": null,
   "metadata": {},
   "outputs": [],
   "source": [
    "# Inicialización de Datos\n",
    "\n",
    "T = 90\n",
    "Q = 120 # yt en (0, 120)\n",
    "y1 = 40 \n",
    "\n",
    "# Función de Costo\n",
    "def K(t):\n",
    "    if t <=30:\n",
    "        return 180\n",
    "    elif 30 < t <= 60:\n",
    "        return 500\n",
    "    elif 60 < t:\n",
    "        return 250"
   ]
  }
 ],
 "metadata": {
  "kernelspec": {
   "display_name": "Python 3",
   "language": "python",
   "name": "python3"
  },
  "language_info": {
   "name": "python",
   "version": "3.11.5"
  },
  "orig_nbformat": 4
 },
 "nbformat": 4,
 "nbformat_minor": 2
}
